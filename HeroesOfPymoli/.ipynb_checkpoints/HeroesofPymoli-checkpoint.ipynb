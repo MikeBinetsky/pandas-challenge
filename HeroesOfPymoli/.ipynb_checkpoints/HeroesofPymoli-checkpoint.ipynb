{
 "cells": [
  {
   "cell_type": "code",
   "execution_count": 1,
   "metadata": {},
   "outputs": [],
   "source": [
    "# Importing Dependencies\n",
    "import pandas as pd\n",
    "# For calling the file that will be read in, I prefer to use the os method rather than listing the path out since it is more universal\n",
    "import os\n",
    "%config Completer.use_jedi = False"
   ]
  },
  {
   "cell_type": "code",
   "execution_count": 2,
   "metadata": {},
   "outputs": [
    {
     "data": {
      "text/html": [
       "<div>\n",
       "<style scoped>\n",
       "    .dataframe tbody tr th:only-of-type {\n",
       "        vertical-align: middle;\n",
       "    }\n",
       "\n",
       "    .dataframe tbody tr th {\n",
       "        vertical-align: top;\n",
       "    }\n",
       "\n",
       "    .dataframe thead th {\n",
       "        text-align: right;\n",
       "    }\n",
       "</style>\n",
       "<table border=\"1\" class=\"dataframe\">\n",
       "  <thead>\n",
       "    <tr style=\"text-align: right;\">\n",
       "      <th></th>\n",
       "      <th>Purchase ID</th>\n",
       "      <th>SN</th>\n",
       "      <th>Age</th>\n",
       "      <th>Gender</th>\n",
       "      <th>Item ID</th>\n",
       "      <th>Item Name</th>\n",
       "      <th>Price</th>\n",
       "    </tr>\n",
       "  </thead>\n",
       "  <tbody>\n",
       "    <tr>\n",
       "      <th>0</th>\n",
       "      <td>0</td>\n",
       "      <td>Lisim78</td>\n",
       "      <td>20</td>\n",
       "      <td>Male</td>\n",
       "      <td>108</td>\n",
       "      <td>Extraction, Quickblade Of Trembling Hands</td>\n",
       "      <td>3.53</td>\n",
       "    </tr>\n",
       "    <tr>\n",
       "      <th>1</th>\n",
       "      <td>1</td>\n",
       "      <td>Lisovynya38</td>\n",
       "      <td>40</td>\n",
       "      <td>Male</td>\n",
       "      <td>143</td>\n",
       "      <td>Frenzied Scimitar</td>\n",
       "      <td>1.56</td>\n",
       "    </tr>\n",
       "    <tr>\n",
       "      <th>2</th>\n",
       "      <td>2</td>\n",
       "      <td>Ithergue48</td>\n",
       "      <td>24</td>\n",
       "      <td>Male</td>\n",
       "      <td>92</td>\n",
       "      <td>Final Critic</td>\n",
       "      <td>4.88</td>\n",
       "    </tr>\n",
       "    <tr>\n",
       "      <th>3</th>\n",
       "      <td>3</td>\n",
       "      <td>Chamassasya86</td>\n",
       "      <td>24</td>\n",
       "      <td>Male</td>\n",
       "      <td>100</td>\n",
       "      <td>Blindscythe</td>\n",
       "      <td>3.27</td>\n",
       "    </tr>\n",
       "    <tr>\n",
       "      <th>4</th>\n",
       "      <td>4</td>\n",
       "      <td>Iskosia90</td>\n",
       "      <td>23</td>\n",
       "      <td>Male</td>\n",
       "      <td>131</td>\n",
       "      <td>Fury</td>\n",
       "      <td>1.44</td>\n",
       "    </tr>\n",
       "  </tbody>\n",
       "</table>\n",
       "</div>"
      ],
      "text/plain": [
       "   Purchase ID             SN  Age Gender  Item ID  \\\n",
       "0            0        Lisim78   20   Male      108   \n",
       "1            1    Lisovynya38   40   Male      143   \n",
       "2            2     Ithergue48   24   Male       92   \n",
       "3            3  Chamassasya86   24   Male      100   \n",
       "4            4      Iskosia90   23   Male      131   \n",
       "\n",
       "                                   Item Name  Price  \n",
       "0  Extraction, Quickblade Of Trembling Hands   3.53  \n",
       "1                          Frenzied Scimitar   1.56  \n",
       "2                               Final Critic   4.88  \n",
       "3                                Blindscythe   3.27  \n",
       "4                                       Fury   1.44  "
      ]
     },
     "execution_count": 2,
     "metadata": {},
     "output_type": "execute_result"
    }
   ],
   "source": [
    "# First, let's get our file location\n",
    "filepath = os.path.join(\"Resources\", \"purchase_data.csv\")\n",
    "\n",
    "# Then read in CSV in\n",
    "purchaseDataDf = pd.read_csv(filepath)\n",
    "# and make sure it was read in correctly by checking the dataframe\n",
    "purchaseDataDf.head()"
   ]
  },
  {
   "cell_type": "code",
   "execution_count": 3,
   "metadata": {},
   "outputs": [],
   "source": [
    "# PLAYER COUNT"
   ]
  },
  {
   "cell_type": "code",
   "execution_count": 18,
   "metadata": {},
   "outputs": [
    {
     "name": "stdout",
     "output_type": "stream",
     "text": [
      "TOTAL PLAYERS:\n",
      "--------------\n"
     ]
    },
    {
     "data": {
      "text/html": [
       "<div>\n",
       "<style scoped>\n",
       "    .dataframe tbody tr th:only-of-type {\n",
       "        vertical-align: middle;\n",
       "    }\n",
       "\n",
       "    .dataframe tbody tr th {\n",
       "        vertical-align: top;\n",
       "    }\n",
       "\n",
       "    .dataframe thead th {\n",
       "        text-align: right;\n",
       "    }\n",
       "</style>\n",
       "<table border=\"1\" class=\"dataframe\">\n",
       "  <thead>\n",
       "    <tr style=\"text-align: right;\">\n",
       "      <th></th>\n",
       "      <th>Total Players</th>\n",
       "    </tr>\n",
       "  </thead>\n",
       "  <tbody>\n",
       "    <tr>\n",
       "      <th>0</th>\n",
       "      <td>576</td>\n",
       "    </tr>\n",
       "  </tbody>\n",
       "</table>\n",
       "</div>"
      ],
      "text/plain": [
       "   Total Players\n",
       "0            576"
      ]
     },
     "execution_count": 18,
     "metadata": {},
     "output_type": "execute_result"
    }
   ],
   "source": [
    "# To do this, we just need to find the total count of purchases\n",
    "numberOfPlayers = purchaseDataDf['SN'].nunique()\n",
    "players = [{\"Total Players\" : numberOfPlayers}]\n",
    "totalPlayers = pd.DataFrame(players)\n",
    "print(\"TOTAL PLAYERS:\")\n",
    "print(\"--------------\")\n",
    "totalPlayers"
   ]
  },
  {
   "cell_type": "code",
   "execution_count": 19,
   "metadata": {},
   "outputs": [
    {
     "name": "stdout",
     "output_type": "stream",
     "text": [
      "PURCHASING ANALYTICS (TOTAL)\n",
      "----------------------------\n"
     ]
    },
    {
     "data": {
      "text/html": [
       "<div>\n",
       "<style scoped>\n",
       "    .dataframe tbody tr th:only-of-type {\n",
       "        vertical-align: middle;\n",
       "    }\n",
       "\n",
       "    .dataframe tbody tr th {\n",
       "        vertical-align: top;\n",
       "    }\n",
       "\n",
       "    .dataframe thead th {\n",
       "        text-align: right;\n",
       "    }\n",
       "</style>\n",
       "<table border=\"1\" class=\"dataframe\">\n",
       "  <thead>\n",
       "    <tr style=\"text-align: right;\">\n",
       "      <th></th>\n",
       "      <th>Number Of Unique Items</th>\n",
       "      <th>Average Price</th>\n",
       "      <th>Total Purchases</th>\n",
       "      <th>Total Revenue</th>\n",
       "    </tr>\n",
       "  </thead>\n",
       "  <tbody>\n",
       "    <tr>\n",
       "      <th>0</th>\n",
       "      <td>179</td>\n",
       "      <td>$3.05</td>\n",
       "      <td>780</td>\n",
       "      <td>$2379.77</td>\n",
       "    </tr>\n",
       "  </tbody>\n",
       "</table>\n",
       "</div>"
      ],
      "text/plain": [
       "   Number Of Unique Items Average Price  Total Purchases Total Revenue\n",
       "0                     179         $3.05              780      $2379.77"
      ]
     },
     "execution_count": 19,
     "metadata": {},
     "output_type": "execute_result"
    }
   ],
   "source": [
    "# Next, let's get some total purchasing analytics\n",
    "print(f'PURCHASING ANALYTICS (TOTAL)')\n",
    "print(f'----------------------------')\n",
    "\n",
    "# Here I get the average price of the price column\n",
    "averagePrice = purchaseDataDf['Price'].mean()\n",
    "\n",
    "# Then Format it to be put in our dataframe later\n",
    "averagePriceFormatted = \"${:.2f}\".format(averagePrice)\n",
    "\n",
    "# Then we grab the number of unique items through the Item ID column\n",
    "uniqueItems = purchaseDataDf['Item ID'].nunique()\n",
    "\n",
    "# Set that nunique to a new output so it can be converted into a dataframe\n",
    "itemDF = [{\"Number Of Unique Items\" : uniqueItems}]\n",
    "\n",
    "# Let's calculate the total purchases\n",
    "totalPurchases = purchaseDataDf['Purchase ID'].count()\n",
    "\n",
    "# Now let's get the total revenue\n",
    "totalRevenue = purchaseDataDf['Price'].sum()\n",
    "totalRevenueFormatted = \"${:.2f}\".format(totalRevenue)\n",
    "\n",
    "# Convert our output into a new dataframe to store all our purchasing analytics\n",
    "purchaseAnalytics = pd.DataFrame(itemDF)\n",
    "\n",
    "# Add our average price we calculated earlier to our dataframe\n",
    "purchaseAnalytics[\"Average Price\"] = averagePriceFormatted\n",
    "\n",
    "# Add our total purchases to our dataframe\n",
    "purchaseAnalytics[\"Total Purchases\"] = totalPurchases\n",
    "\n",
    "# Lastly, add our total revenue to our dataframe and print it out\n",
    "purchaseAnalytics[\"Total Revenue\"] = totalRevenueFormatted\n",
    "purchaseAnalytics"
   ]
  },
  {
   "cell_type": "code",
   "execution_count": 5,
   "metadata": {},
   "outputs": [],
   "source": [
    "# GENDER DEMOGRAPHICS"
   ]
  },
  {
   "cell_type": "code",
   "execution_count": 5,
   "metadata": {},
   "outputs": [],
   "source": [
    "# First, get the total number of unique players to be used in our calculation.\n",
    "playerCount = len(purchaseDataDf[\"SN\"].unique())\n",
    "\n",
    "# Here we get a new dataframe with only our male players to do calculations later\n",
    "malePlayers = pd.DataFrame(purchaseDataDf[purchaseDataDf[\"Gender\"] == \"Male\"][[\"SN\", \"Gender\"]])\n",
    "\n",
    "# For the math, I set the maleCount variable equal to the number of unique players in my male dataframe\n",
    "maleCount = len(malePlayers[\"SN\"].unique())\n",
    "\n",
    "# Then I do math to calculate the percentage and format it as a percentage\n",
    "malePercentage = \"{:.2f}%\".format((maleCount/playerCount) * 100)\n",
    "\n",
    "# Finally I make a new dataframe for our males to append into our total later\n",
    "maleDf = pd.DataFrame([{\"Total Count\" : maleCount, \"Percentage of Players\" : malePercentage, \"Gender\" : \"Male\"}])\n",
    "\n",
    "# And set the index to males\n",
    "maleFinal = maleDf.set_index(\"Gender\")"
   ]
  },
  {
   "cell_type": "code",
   "execution_count": 6,
   "metadata": {},
   "outputs": [],
   "source": [
    "# Now we're doing the same thing for females\n",
    "\n",
    "# Here we get a new dataframe with only our female players to do calculations later\n",
    "femalePlayers = pd.DataFrame(purchaseDataDf[purchaseDataDf[\"Gender\"] == \"Female\"][[\"SN\", \"Gender\"]])\n",
    "\n",
    "# For the math, I set the femaleCount variable equal to the number of unique players in my male dataframe\n",
    "femaleCount = len(femalePlayers[\"SN\"].unique())\n",
    "\n",
    "# Then I do math to calculate the percentage and format it as a percentage\n",
    "femalePercentage = \"{:.2f}%\".format((femaleCount/playerCount) * 100)\n",
    "\n",
    "# Finally I make a new dataframe for our females to append into our total later\n",
    "femaleDf = pd.DataFrame([{\"Total Count\" : femaleCount, \"Percentage of Players\" : femalePercentage, \"Gender\" : \"Female\"}])\n",
    "\n",
    "# And set the index to females\n",
    "femaleFinal = femaleDf.set_index(\"Gender\")"
   ]
  },
  {
   "cell_type": "code",
   "execution_count": 15,
   "metadata": {},
   "outputs": [],
   "source": [
    "#Now last but not least, we do the same thing for the Other / Non-Disclosed gender\n",
    "\n",
    "# Here we get a new dataframe with only our Other / Non-Disclosed players to do calculations later\n",
    "otherPlayers = pd.DataFrame(purchaseDataDf[purchaseDataDf[\"Gender\"] == \"Other / Non-Disclosed\"][[\"SN\", \"Gender\"]])\n",
    "\n",
    "# For the math, I set the otherCount variable equal to the number of unique players in my male dataframe\n",
    "otherCount = len(otherPlayers[\"SN\"].unique())\n",
    "\n",
    "# Then I do math to calculate the percentage and format it as a percentage\n",
    "otherPercentage = \"{:.2f}%\".format((otherCount/playerCount) * 100)\n",
    "\n",
    "# Finally I make a new dataframe for our Other / Non-Disclosed to append into our total later\n",
    "otherDf = pd.DataFrame([{\"Total Count\" : otherCount, \"Percentage of Players\" : otherPercentage, \"Gender\" : \"Other / Non-Disclosed\"}])\n",
    "\n",
    "# And set the index to Other / Non-Disclosed\n",
    "otherFinal = otherDf.set_index(\"Gender\")"
   ]
  },
  {
   "cell_type": "code",
   "execution_count": 20,
   "metadata": {},
   "outputs": [
    {
     "name": "stdout",
     "output_type": "stream",
     "text": [
      "GENDER DEMOGRAPHICS:\n",
      "--------------------\n"
     ]
    },
    {
     "data": {
      "text/html": [
       "<div>\n",
       "<style scoped>\n",
       "    .dataframe tbody tr th:only-of-type {\n",
       "        vertical-align: middle;\n",
       "    }\n",
       "\n",
       "    .dataframe tbody tr th {\n",
       "        vertical-align: top;\n",
       "    }\n",
       "\n",
       "    .dataframe thead th {\n",
       "        text-align: right;\n",
       "    }\n",
       "</style>\n",
       "<table border=\"1\" class=\"dataframe\">\n",
       "  <thead>\n",
       "    <tr style=\"text-align: right;\">\n",
       "      <th></th>\n",
       "      <th>Total Count</th>\n",
       "      <th>Percentage of Players</th>\n",
       "    </tr>\n",
       "    <tr>\n",
       "      <th>Gender</th>\n",
       "      <th></th>\n",
       "      <th></th>\n",
       "    </tr>\n",
       "  </thead>\n",
       "  <tbody>\n",
       "    <tr>\n",
       "      <th>Male</th>\n",
       "      <td>484</td>\n",
       "      <td>84.03%</td>\n",
       "    </tr>\n",
       "    <tr>\n",
       "      <th>Female</th>\n",
       "      <td>81</td>\n",
       "      <td>14.06%</td>\n",
       "    </tr>\n",
       "    <tr>\n",
       "      <th>Other / Non-Disclosed</th>\n",
       "      <td>11</td>\n",
       "      <td>1.91%</td>\n",
       "    </tr>\n",
       "  </tbody>\n",
       "</table>\n",
       "</div>"
      ],
      "text/plain": [
       "                       Total Count Percentage of Players\n",
       "Gender                                                  \n",
       "Male                           484                84.03%\n",
       "Female                          81                14.06%\n",
       "Other / Non-Disclosed           11                 1.91%"
      ]
     },
     "execution_count": 20,
     "metadata": {},
     "output_type": "execute_result"
    }
   ],
   "source": [
    "# Alright! And now we add those three dataframes we made together into one dataframe to show everything\n",
    "genderFinalDf = maleFinal\n",
    "genderFinalDf = genderFinalDf.append(femaleFinal)\n",
    "genderFinalDf = genderFinalDf.append(otherFinal)\n",
    "print(\"GENDER DEMOGRAPHICS:\")\n",
    "print(\"--------------------\")\n",
    "genderFinalDf\n",
    "\n",
    "# I chose to do this method to show off a bit more skill in using various pandas commands\n",
    "# I considered originall just doing all the math then manually creating a dataframe with the new math\n",
    "# but to keep it all within pandas, I decided to manipulate dataframes instead."
   ]
  },
  {
   "cell_type": "code",
   "execution_count": 17,
   "metadata": {},
   "outputs": [],
   "source": [
    "# PURCHASING ANALYSIS (GENDER)"
   ]
  },
  {
   "cell_type": "code",
   "execution_count": null,
   "metadata": {},
   "outputs": [],
   "source": []
  }
 ],
 "metadata": {
  "kernelspec": {
   "display_name": "Python 3",
   "language": "python",
   "name": "python3"
  },
  "language_info": {
   "codemirror_mode": {
    "name": "ipython",
    "version": 3
   },
   "file_extension": ".py",
   "mimetype": "text/x-python",
   "name": "python",
   "nbconvert_exporter": "python",
   "pygments_lexer": "ipython3",
   "version": "3.8.5"
  }
 },
 "nbformat": 4,
 "nbformat_minor": 4
}
